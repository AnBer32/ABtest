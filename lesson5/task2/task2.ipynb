{
 "cells": [
  {
   "attachments": {},
   "cell_type": "markdown",
   "metadata": {},
   "source": [
    "# Задача 2\n",
    "\n",
    "Сравниваем метрику конверсия в покупку. Размер выборки - 10000 элементов в каждой группе . Какой статистический критерий тут лучше всего подойдёт и почему ?"
   ]
  },
  {
   "cell_type": "code",
   "execution_count": 2,
   "metadata": {},
   "outputs": [
    {
     "name": "stdout",
     "output_type": "stream",
     "text": [
      "Необходимый размер выборки: 1093\n",
      "Хи-квадрат p-value:  0.5637905872744118\n",
      "Доверительный интервал изменения:  (-0.40081583523469, 4.40041587523069)\n",
      "Разницы нет.\n"
     ]
    }
   ],
   "source": [
    "from statsmodels.stats.proportion import proportion_effectsize\n",
    "from statsmodels.stats.power import TTestIndPower\n",
    "\n",
    "\n",
    "baseline_cr = 0.2 # базовый уровень конверсии\n",
    "min_effect = 0.05 # минимальный значимый результат\n",
    "\n",
    "effect_size = proportion_effectsize(baseline_cr, baseline_cr + min_effect)\n",
    "\n",
    "\n",
    "alpha = 0.05 # уровень значимости\n",
    "power = 0.8  #уровень мощности\n",
    "power_analysis = TTestIndPower()\n",
    "sample_size = power_analysis.solve_power(effect_size, power=power, alpha=alpha, alternative='two-sided')\n",
    "\n",
    "print(f\"Необходимый размер выборки: {sample_size:.0f}\")\n",
    "\n",
    "\n",
    "import numpy as np\n",
    "import scipy.stats as stats\n",
    "\n",
    "# Загрузите данные в переменные\n",
    "group_A = [1, 10000]\n",
    "group_B = [2, 10001]\n",
    "\n",
    "# Запустите тест\n",
    "chi2, p, dof, ex = stats.chi2_contingency([group_A, group_B], correction=False)\n",
    "\n",
    "# Рассчитайте доверительный интервал для изменения\n",
    "lift = (group_B[0]/group_B[1])/(group_A[0]/group_A[1])\n",
    "std_error = np.sqrt(1/group_B[0] + 1/group_B[1] + 1/group_A[0] + 1/group_A[1])\n",
    "ci = stats.norm.interval(0.95, loc=lift, scale=std_error)\n",
    "\n",
    "# Выводим результаты\n",
    "print(\"Хи-квадрат p-value: \", p)\n",
    "print(\"Доверительный интервал изменения: \", ci)\n",
    "\n",
    "# Проверяем есть ли изменение\n",
    "if p < 0.05 and ci[0] > 1:\n",
    "    print(\"Вариант лучше.\")\n",
    "else:\n",
    "    print(\"Разницы нет.\")\n",
    "      \n"
   ]
  },
  {
   "attachments": {},
   "cell_type": "markdown",
   "metadata": {},
   "source": []
  }
 ],
 "metadata": {
  "kernelspec": {
   "display_name": "Python 3",
   "language": "python",
   "name": "python3"
  },
  "language_info": {
   "codemirror_mode": {
    "name": "ipython",
    "version": 3
   },
   "file_extension": ".py",
   "mimetype": "text/x-python",
   "name": "python",
   "nbconvert_exporter": "python",
   "pygments_lexer": "ipython3",
   "version": "3.11.2"
  },
  "orig_nbformat": 4
 },
 "nbformat": 4,
 "nbformat_minor": 2
}
