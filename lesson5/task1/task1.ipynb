{
 "cells": [
  {
   "attachments": {},
   "cell_type": "markdown",
   "metadata": {},
   "source": [
    "# Задача1\n",
    "\n",
    "Вы провели эксперимент c упрощением формы заказа в магазине Утконос и получили результаты по метрике конверсий в покупку. Выберите метод оценки и оцените есть ли стат.значимые различия между конверсиями в двух группах при alpha = 5%. Дайте краткие рекомендации команде .Результаты: 1)Число юзеров в группах , которые заходили на сайт в период эксперимента: n1 = 15550 и n2 = 15550 . 2) Число юзеров в группах , которые совершили хотя бы одну покупку за период эксперимента: n1 = 164 и n2 = 228 3) Конверсии : conv1 = 1.05% conv2 = 1.47% ."
   ]
  },
  {
   "cell_type": "code",
   "execution_count": 2,
   "metadata": {},
   "outputs": [
    {
     "name": "stdout",
     "output_type": "stream",
     "text": [
      "-3.253054722696254\n",
      "0.001141715077067056\n"
     ]
    }
   ],
   "source": [
    "import numpy as np\n",
    "import statsmodels.stats.proportion as smp\n",
    "\n",
    "alpha = 0.05\n",
    "# число успехов в каждой группе\n",
    "successes = np.array([164, 228])\n",
    "\n",
    "# число наблюдений в каждой группе\n",
    "nobs = np.array([15550, 15550])\n",
    "\n",
    "# пропорции успехов в каждой группе\n",
    "proportions = successes / nobs\n",
    "\n",
    "# z-статистика и p-значение\n",
    "zstat, pvalue = smp.proportions_ztest(count=successes, nobs=nobs, value=0, alternative='two-sided')\n",
    "print(zstat)\n",
    "print(pvalue)"
   ]
  },
  {
   "attachments": {},
   "cell_type": "markdown",
   "metadata": {},
   "source": [
    "На основе z-статистики: -3.253054722696254 и p-value: 0.001141715077067056, можно сделать вывод о статистически значимых различиях между конверсиями в двух группах.\n",
    "\n",
    "Рекомендации команде: на основании результатов эксперимента можно рекомендовать использовать упрощенную форму заказа в магазине Утконос, так как она приводит к более высокой конверсии в покупку. Однако, следует провести дополнительные исследования, чтобы понять, какие именно элементы формы заказа необходимо упростить, чтобы максимизировать конверсии."
   ]
  }
 ],
 "metadata": {
  "kernelspec": {
   "display_name": "Python 3",
   "language": "python",
   "name": "python3"
  },
  "language_info": {
   "codemirror_mode": {
    "name": "ipython",
    "version": 3
   },
   "file_extension": ".py",
   "mimetype": "text/x-python",
   "name": "python",
   "nbconvert_exporter": "python",
   "pygments_lexer": "ipython3",
   "version": "3.11.2"
  },
  "orig_nbformat": 4
 },
 "nbformat": 4,
 "nbformat_minor": 2
}
